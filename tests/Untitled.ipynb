{
 "cells": [
  {
   "cell_type": "code",
   "execution_count": 2,
   "id": "50d29638-a641-4232-8ecb-0a95a1106717",
   "metadata": {},
   "outputs": [],
   "source": [
    "import re\n",
    "import pandas as pd"
   ]
  },
  {
   "cell_type": "code",
   "execution_count": 15,
   "id": "012556cf-0b72-46b4-8d0a-6b731233c277",
   "metadata": {},
   "outputs": [],
   "source": [
    "s = 'Run101620-1 Material X Analysis 94623.mss'"
   ]
  },
  {
   "cell_type": "code",
   "execution_count": 16,
   "id": "3e75d45c-35cd-46a8-8719-a3f4b1e38ea1",
   "metadata": {},
   "outputs": [
    {
     "data": {
      "text/plain": [
       "'Run101620-1 Material X Analysis 94623.mss'"
      ]
     },
     "execution_count": 16,
     "metadata": {},
     "output_type": "execute_result"
    }
   ],
   "source": [
    "#pattern = r'^([^_]+)_.*$'    \n",
    "pattern = r'([^_]+)_.*'    \n",
    "match = re.match(pattern, s)\n",
    "match.group(1) if match else s"
   ]
  },
  {
   "cell_type": "code",
   "execution_count": 17,
   "id": "03b0389f-f880-405d-aded-6b6f54afafd7",
   "metadata": {},
   "outputs": [
    {
     "data": {
      "text/plain": [
       "['Run101620-1 Material X Analysis 94623.mss']"
      ]
     },
     "execution_count": 17,
     "metadata": {},
     "output_type": "execute_result"
    }
   ],
   "source": [
    "lst = s.split('_')\n",
    "lst"
   ]
  },
  {
   "cell_type": "code",
   "execution_count": 18,
   "id": "705bc9a4-0afa-4cb3-86eb-350de73e8606",
   "metadata": {},
   "outputs": [
    {
     "data": {
      "text/plain": [
       "'Run101620-1 Material X Analysis 94623.mss'"
      ]
     },
     "execution_count": 18,
     "metadata": {},
     "output_type": "execute_result"
    }
   ],
   "source": [
    "lst[0]"
   ]
  },
  {
   "cell_type": "code",
   "execution_count": 3,
   "id": "4c102a3d-27df-4472-8a0a-5d6793877250",
   "metadata": {},
   "outputs": [
    {
     "data": {
      "text/html": [
       "<div>\n",
       "<style scoped>\n",
       "    .dataframe tbody tr th:only-of-type {\n",
       "        vertical-align: middle;\n",
       "    }\n",
       "\n",
       "    .dataframe tbody tr th {\n",
       "        vertical-align: top;\n",
       "    }\n",
       "\n",
       "    .dataframe thead th {\n",
       "        text-align: right;\n",
       "    }\n",
       "</style>\n",
       "<table border=\"1\" class=\"dataframe\">\n",
       "  <thead>\n",
       "    <tr style=\"text-align: right;\">\n",
       "      <th></th>\n",
       "    </tr>\n",
       "  </thead>\n",
       "  <tbody>\n",
       "  </tbody>\n",
       "</table>\n",
       "</div>"
      ],
      "text/plain": [
       "Empty DataFrame\n",
       "Columns: []\n",
       "Index: []"
      ]
     },
     "execution_count": 3,
     "metadata": {},
     "output_type": "execute_result"
    }
   ],
   "source": [
    "df1 = pd.DataFrame()\n",
    "df1"
   ]
  },
  {
   "cell_type": "code",
   "execution_count": 5,
   "id": "b149ac6f-37e0-46ac-a682-2455283187ed",
   "metadata": {},
   "outputs": [],
   "source": [
    "df2 = pd.DataFrame(data={'a':[1,2], 'b':[2,4]})\n",
    "df3 = pd.DataFrame(data={'b':[6,8], 'c':[3,6]})"
   ]
  },
  {
   "cell_type": "code",
   "execution_count": 13,
   "id": "400f1f31-aa11-4841-9f88-f924a5697648",
   "metadata": {},
   "outputs": [
    {
     "data": {
      "text/html": [
       "<div>\n",
       "<style scoped>\n",
       "    .dataframe tbody tr th:only-of-type {\n",
       "        vertical-align: middle;\n",
       "    }\n",
       "\n",
       "    .dataframe tbody tr th {\n",
       "        vertical-align: top;\n",
       "    }\n",
       "\n",
       "    .dataframe thead th {\n",
       "        text-align: right;\n",
       "    }\n",
       "</style>\n",
       "<table border=\"1\" class=\"dataframe\">\n",
       "  <thead>\n",
       "    <tr style=\"text-align: right;\">\n",
       "      <th></th>\n",
       "      <th>b</th>\n",
       "    </tr>\n",
       "  </thead>\n",
       "  <tbody>\n",
       "    <tr>\n",
       "      <th>0</th>\n",
       "      <td>2</td>\n",
       "    </tr>\n",
       "    <tr>\n",
       "      <th>1</th>\n",
       "      <td>4</td>\n",
       "    </tr>\n",
       "    <tr>\n",
       "      <th>2</th>\n",
       "      <td>6</td>\n",
       "    </tr>\n",
       "    <tr>\n",
       "      <th>3</th>\n",
       "      <td>8</td>\n",
       "    </tr>\n",
       "  </tbody>\n",
       "</table>\n",
       "</div>"
      ],
      "text/plain": [
       "   b\n",
       "0  2\n",
       "1  4\n",
       "2  6\n",
       "3  8"
      ]
     },
     "execution_count": 13,
     "metadata": {},
     "output_type": "execute_result"
    }
   ],
   "source": [
    "pd.concat([df2, df3], ignore_index=True, join='inner')"
   ]
  },
  {
   "cell_type": "code",
   "execution_count": null,
   "id": "5bf25679-4d5e-4cc1-b9b7-effe4f880c67",
   "metadata": {},
   "outputs": [],
   "source": []
  }
 ],
 "metadata": {
  "kernelspec": {
   "display_name": "Python 3",
   "language": "python",
   "name": "python3"
  },
  "language_info": {
   "codemirror_mode": {
    "name": "ipython",
    "version": 3
   },
   "file_extension": ".py",
   "mimetype": "text/x-python",
   "name": "python",
   "nbconvert_exporter": "python",
   "pygments_lexer": "ipython3",
   "version": "3.8.8"
  }
 },
 "nbformat": 4,
 "nbformat_minor": 5
}
